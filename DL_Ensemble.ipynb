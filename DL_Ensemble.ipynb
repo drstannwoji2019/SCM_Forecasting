{
  "nbformat": 4,
  "nbformat_minor": 0,
  "metadata": {
    "colab": {
      "provenance": [],
      "authorship_tag": "ABX9TyMfE5Ul9fGeeZGbxcGB2KEX",
      "include_colab_link": true
    },
    "kernelspec": {
      "name": "python3",
      "display_name": "Python 3"
    },
    "language_info": {
      "name": "python"
    }
  },
  "cells": [
    {
      "cell_type": "markdown",
      "metadata": {
        "id": "view-in-github",
        "colab_type": "text"
      },
      "source": [
        "<a href=\"https://colab.research.google.com/github/drstannwoji2019/SCM_Forecasting/blob/main/DL_Ensemble.ipynb\" target=\"_parent\"><img src=\"https://colab.research.google.com/assets/colab-badge.svg\" alt=\"Open In Colab\"/></a>"
      ]
    },
    {
      "cell_type": "code",
      "execution_count": 13,
      "metadata": {
        "id": "RqYJZsOVPL09"
      },
      "outputs": [],
      "source": [
        "import numpy as np\n",
        "from sklearn.model_selection import train_test_split\n",
        "\n",
        "# Generate synthetic data\n",
        "np.random.seed(0)\n",
        "n = 1000\n",
        "x = np.linspace(0, 4 * np.pi, n)\n",
        "noise = np.random.normal(0, 0.5, n)\n",
        "data = 10 * np.sin(x) + noise\n",
        "X = x.reshape(-1, 1)\n",
        "y = data\n",
        "\n",
        "# Split the data into training and testing sets\n",
        "X_train, X_test, y_train, y_test = train_test_split(X, y, test_size=0.2, random_state=42)\n"
      ]
    },
    {
      "cell_type": "code",
      "source": [
        "import tensorflow as tf\n",
        "from tensorflow.keras.models import Sequential\n",
        "from tensorflow.keras.layers import Dense\n",
        "\n",
        "# Define the first deep learning model\n",
        "model1 = Sequential([\n",
        "    Dense(32, activation='relu', input_shape=(1,)),\n",
        "    Dense(32, activation='relu'),\n",
        "    Dense(1)\n",
        "])\n",
        "\n",
        "# Define the second deep learning model\n",
        "model2 = Sequential([\n",
        "    Dense(64, activation='relu', input_shape=(1,)),\n",
        "    Dense(64, activation='relu'),\n",
        "    Dense(1)\n",
        "])\n",
        "\n",
        "# Compile the models\n",
        "model1.compile(optimizer='adam', loss='mse')\n",
        "model2.compile(optimizer='adam', loss='mse')\n",
        "\n",
        "# Train the models\n",
        "model1.fit(X_train, y_train, epochs=50, verbose=0)\n",
        "model2.fit(X_train, y_train, epochs=50, verbose=0)\n"
      ],
      "metadata": {
        "colab": {
          "base_uri": "https://localhost:8080/"
        },
        "id": "hx-4EsCePOes",
        "outputId": "7c19b93b-7bfb-4b16-8659-2e0b9058c5ff"
      },
      "execution_count": 14,
      "outputs": [
        {
          "output_type": "execute_result",
          "data": {
            "text/plain": [
              "<keras.callbacks.History at 0x7f6c31b1f160>"
            ]
          },
          "metadata": {},
          "execution_count": 14
        }
      ]
    },
    {
      "cell_type": "code",
      "source": [
        "# Forecast the demand for the test data\n",
        "y_pred1 = model1.predict(X_test)\n",
        "y_pred2 = model2.predict(X_test)\n",
        "\n",
        "# Ensemble model (averaging)\n",
        "y_pred_ensemble = (y_pred1 + y_pred2) / 2\n"
      ],
      "metadata": {
        "colab": {
          "base_uri": "https://localhost:8080/"
        },
        "id": "Mix5mKovPSzZ",
        "outputId": "495098d0-eb7d-4fe8-d4c1-c60bd7e50c96"
      },
      "execution_count": 15,
      "outputs": [
        {
          "output_type": "stream",
          "name": "stdout",
          "text": [
            "7/7 [==============================] - 0s 2ms/step\n",
            "7/7 [==============================] - 0s 2ms/step\n"
          ]
        }
      ]
    },
    {
      "cell_type": "code",
      "source": [
        "import numpy as np\n",
        "import tensorflow as tf\n",
        "from sklearn.model_selection import train_test_split\n",
        "from sklearn.metrics import mean_squared_error\n",
        "from tensorflow.keras.models import Sequential\n",
        "from tensorflow.keras.layers import Dense\n",
        "\n",
        "# Generate synthetic data and split it into training and testing sets (as shown in the previous example)\n",
        "\n",
        "# Define and train the deep learning models (as shown in the previous example)\n",
        "\n",
        "# Forecast the demand for the test data\n",
        "y_pred1 = model1.predict(X_test)\n",
        "y_pred2 = model2.predict(X_test)\n",
        "\n",
        "# Ensemble model (averaging)\n",
        "y_pred_ensemble = (y_pred1 + y_pred2) / 2\n",
        "\n",
        "# Calculate the mean squared error for individual models and the ensemble model\n",
        "mse1 = mean_squared_error(y_test, y_pred1)\n",
        "mse2 = mean_squared_error(y_test, y_pred2)\n",
        "mse_ensemble = mean_squared_error(y_test, y_pred_ensemble)\n",
        "\n",
        "print(\"Mean Squared Error - Model 1:\", mse1)\n",
        "print(\"Mean Squared Error - Model 2:\", mse2)\n",
        "print(\"Mean Squared Error - Ensemble Model:\", mse_ensemble)\n"
      ],
      "metadata": {
        "colab": {
          "base_uri": "https://localhost:8080/"
        },
        "id": "8FlM-QLwRP8d",
        "outputId": "532b47de-eb7b-44f7-a521-35191d00abe7"
      },
      "execution_count": 17,
      "outputs": [
        {
          "output_type": "stream",
          "name": "stdout",
          "text": [
            "7/7 [==============================] - 0s 2ms/step\n",
            "7/7 [==============================] - 0s 2ms/step\n",
            "Mean Squared Error - Model 1: 39.06370876836384\n",
            "Mean Squared Error - Model 2: 39.911292557407\n",
            "Mean Squared Error - Ensemble Model: 39.439077483902736\n"
          ]
        }
      ]
    }
  ]
}