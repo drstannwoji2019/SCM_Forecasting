{
  "nbformat": 4,
  "nbformat_minor": 0,
  "metadata": {
    "colab": {
      "provenance": [],
      "authorship_tag": "ABX9TyPfN+Z8K5y4Yle5uy2abIza",
      "include_colab_link": true
    },
    "kernelspec": {
      "name": "python3",
      "display_name": "Python 3"
    },
    "language_info": {
      "name": "python"
    }
  },
  "cells": [
    {
      "cell_type": "markdown",
      "metadata": {
        "id": "view-in-github",
        "colab_type": "text"
      },
      "source": [
        "<a href=\"https://colab.research.google.com/github/drstannwoji2019/SCM_Forecasting/blob/main/ForecastingModels_Ghana.ipynb\" target=\"_parent\"><img src=\"https://colab.research.google.com/assets/colab-badge.svg\" alt=\"Open In Colab\"/></a>"
      ]
    },
    {
      "cell_type": "code",
      "execution_count": 30,
      "metadata": {
        "colab": {
          "base_uri": "https://localhost:8080/"
        },
        "id": "C0VFi7PNXClX",
        "outputId": "82e46b79-d7ad-48bf-db84-0b97b5238ef2"
      },
      "outputs": [
        {
          "output_type": "stream",
          "name": "stdout",
          "text": [
            "   Year  FDI_Gambia      FDI_Ghana  FDI_Liberia    FDI_Nigeria      FDI_SL  \\\n",
            "0  2004  55,526,319    139,270,000   75,351,732  1,874,060,887  61,153,314   \n",
            "1  2005  53,650,280    144,970,000   82,802,111  4,982,533,930  90,731,670   \n",
            "2  2006  82,208,103    636,010,000  107,856,672  4,854,353,979  58,869,144   \n",
            "3  2007  78,094,821  1,383,177,930  131,637,662  6,036,021,405  95,470,171   \n",
            "4  2008  70,792,382  2,714,916,344  283,536,077  8,194,071,895  53,095,068   \n",
            "\n",
            "        FDI_Total  Rem_Gambia    Rem_Ghana Rem_Liberia     Rem_Nigeria  \\\n",
            "0   2,205,362,252  60,748,749   82,371,200  58,446,876   2,272,734,507   \n",
            "1   5,354,687,991  59,304,088   99,184,576  31,854,956  14,640,084,310   \n",
            "2   5,739,297,897  63,773,517  105,253,248  78,814,942  16,932,144,079   \n",
            "3   7,724,401,989  55,662,540  117,363,712  61,977,178  18,014,430,787   \n",
            "4  11,316,411,767  64,811,559  126,104,704  58,122,232  19,199,974,036   \n",
            "\n",
            "       Rem_SL       Rem_Total  \n",
            "0  24,714,834   2,499,016,167  \n",
            "1   2,435,105  14,832,863,034  \n",
            "2  15,622,339  17,195,608,125  \n",
            "3  41,973,856  18,291,408,074  \n",
            "4  22,578,604  19,471,591,135  \n",
            "(19, 13)\n",
            "Index(['Year', 'FDI_Gambia', 'FDI_Ghana', 'FDI_Liberia', 'FDI_Nigeria',\n",
            "       'FDI_SL', 'FDI_Total', 'Rem_Gambia', 'Rem_Ghana', 'Rem_Liberia',\n",
            "       'Rem_Nigeria', 'Rem_SL', 'Rem_Total'],\n",
            "      dtype='object')\n",
            "Year            int64\n",
            "FDI_Gambia     object\n",
            "FDI_Ghana      object\n",
            "FDI_Liberia    object\n",
            "FDI_Nigeria    object\n",
            "FDI_SL         object\n",
            "FDI_Total      object\n",
            "Rem_Gambia     object\n",
            "Rem_Ghana      object\n",
            "Rem_Liberia    object\n",
            "Rem_Nigeria    object\n",
            "Rem_SL         object\n",
            "Rem_Total      object\n",
            "dtype: object\n",
            "    Year   FDI_Gambia      FDI_Ghana  FDI_Liberia    FDI_Nigeria       FDI_SL  \\\n",
            "14  2018   81,805,007  2,989,035,000  129,129,755    775,247,400  250,446,054   \n",
            "15  2019   71,083,306  3,879,831,470   86,681,700  2,305,099,812  342,400,000   \n",
            "16  2020  189,576,191  1,875,782,953  737,967,947  2,385,277,666  172,699,178   \n",
            "17  2021  251,822,629  2,612,789,793  535,582,906  3,313,210,000  212,289,193   \n",
            "18  2022  231,488,000  1,510,872,058  960,192,469   -186,792,429  293,970,573   \n",
            "\n",
            "        FDI_Total   Rem_Gambia      Rem_Ghana  Rem_Liberia     Rem_Nigeria  \\\n",
            "14  4,225,663,215  212,034,736  3,520,566,623  459,924,732  24,311,022,416   \n",
            "15  6,685,096,288  275,825,107  4,053,694,729  346,244,092  23,809,281,401   \n",
            "16  5,361,303,935  416,418,881  4,291,956,801  335,579,202  17,207,547,306   \n",
            "17  6,925,694,520  547,051,424  4,167,753,824  530,708,601  19,483,402,059   \n",
            "18  2,809,730,671  501,844,380  4,632,532,969  689,738,903  20,127,614,151   \n",
            "\n",
            "         Rem_SL       Rem_Total  \n",
            "14   73,207,825  28,576,756,332  \n",
            "15  177,493,122  28,662,538,451  \n",
            "16  177,031,971  22,428,534,161  \n",
            "17  232,350,067  24,961,265,974  \n",
            "18  321,604,652  26,273,335,055  \n",
            "<class 'pandas.core.frame.DataFrame'>\n",
            "RangeIndex: 19 entries, 0 to 18\n",
            "Data columns (total 13 columns):\n",
            " #   Column       Non-Null Count  Dtype \n",
            "---  ------       --------------  ----- \n",
            " 0   Year         19 non-null     int64 \n",
            " 1   FDI_Gambia   19 non-null     object\n",
            " 2   FDI_Ghana    19 non-null     object\n",
            " 3   FDI_Liberia  19 non-null     object\n",
            " 4   FDI_Nigeria  19 non-null     object\n",
            " 5   FDI_SL       19 non-null     object\n",
            " 6   FDI_Total    19 non-null     object\n",
            " 7   Rem_Gambia   19 non-null     object\n",
            " 8   Rem_Ghana    19 non-null     object\n",
            " 9   Rem_Liberia  19 non-null     object\n",
            " 10  Rem_Nigeria  19 non-null     object\n",
            " 11  Rem_SL       19 non-null     object\n",
            " 12  Rem_Total    19 non-null     object\n",
            "dtypes: int64(1), object(12)\n",
            "memory usage: 2.1+ KB\n",
            "<class 'pandas.core.frame.DataFrame'>\n",
            "RangeIndex: 19 entries, 0 to 18\n",
            "Data columns (total 13 columns):\n",
            " #   Column       Non-Null Count  Dtype \n",
            "---  ------       --------------  ----- \n",
            " 0   Year         19 non-null     int64 \n",
            " 1   FDI_Gambia   19 non-null     object\n",
            " 2   FDI_Ghana    19 non-null     object\n",
            " 3   FDI_Liberia  19 non-null     object\n",
            " 4   FDI_Nigeria  19 non-null     object\n",
            " 5   FDI_SL       19 non-null     object\n",
            " 6   FDI_Total    19 non-null     object\n",
            " 7   Rem_Gambia   19 non-null     object\n",
            " 8   Rem_Ghana    19 non-null     object\n",
            " 9   Rem_Liberia  19 non-null     object\n",
            " 10  Rem_Nigeria  19 non-null     object\n",
            " 11  Rem_SL       19 non-null     object\n",
            " 12  Rem_Total    19 non-null     object\n",
            "dtypes: int64(1), object(12)\n",
            "memory usage: 2.1+ KB\n",
            "None\n",
            "              Year\n",
            "count    19.000000\n",
            "mean   2013.000000\n",
            "std       5.627314\n",
            "min    2004.000000\n",
            "25%    2008.500000\n",
            "50%    2013.000000\n",
            "75%    2017.500000\n",
            "max    2022.000000\n"
          ]
        }
      ],
      "source": [
        "data = pd.read_csv('/content/sample_data/FDI_Remittance_5EnglishSpeaking_WAfricanCountries.csv')\n",
        "data.head()\n",
        "print(data.head())\n",
        "print(data.shape)\n",
        "print(data.columns)\n",
        "print(data.dtypes)\n",
        "data.isnull().sum()\n",
        "data.dropna(inplace=True)\n",
        "data.duplicated().sum()\n",
        "data.drop_duplicates(inplace=True)\n",
        "data.tail()\n",
        "print(data.tail())\n",
        "data.info()\n",
        "print(data.info())\n",
        "data.describe()\n",
        "print(data.describe())\n",
        "\n",
        "# Prepare the data (lag features)\n",
        "import pandas as pd\n",
        "from sklearn.model_selection import train_test_split\n",
        "from sklearn.preprocessing import StandardScaler\n",
        "\n",
        "# Create lagged features for forecasting\n",
        "def create_lagged_features(df, column, lags):\n",
        "    for lag in range(1, lags + 1):\n",
        "        df[f'{column}_lag_{lag}'] = df[column].shift(lag)\n",
        "    return df\n",
        "\n",
        "# Load your dataset\n",
        "file_path = '/content/sample_data/FDI_Remittance_5EnglishSpeaking_WAfricanCountries.csv'\n",
        "data = pd.read_csv(file_path)\n",
        "\n",
        "# Convert columns to numeric (remove commas)\n",
        "data_cleaned = data.replace(',', '', regex=True).astype(float)\n",
        "\n",
        "# Create lagged features for FDI and Remittances\n",
        "lags = 3  # Using 3 previous time steps as features\n",
        "data_lagged = create_lagged_features(data_cleaned, 'FDI_Ghana', lags)\n",
        "data_lagged = create_lagged_features(data_lagged, 'Rem_Ghana', lags)\n",
        "\n",
        "# Drop rows with missing values due to lagging\n",
        "data_lagged.dropna(inplace=True)\n",
        "\n",
        "# Features (X) and Target (y)\n",
        "X = data_lagged[[f'FDI_Ghana_lag_{i}' for i in range(1, lags + 1)] +\n",
        "                [f'Rem_Ghana_lag_{i}' for i in range(1, lags + 1)]]\n",
        "y = data_lagged['Rem_Ghana']\n",
        "\n",
        "# Split data into training and test sets\n",
        "X_train, X_test, y_train, y_test = train_test_split(X, y, test_size=0.2, shuffle=False)\n"
      ]
    },
    {
      "cell_type": "code",
      "source": [
        "# Train and Forecast using different ML models\n",
        "# Linear Regression\n",
        "from sklearn.linear_model import LinearRegression\n",
        "from sklearn.metrics import mean_absolute_error\n",
        "\n",
        "# Linear Regression\n",
        "lr_model = LinearRegression()\n",
        "lr_model.fit(X_train, y_train)\n",
        "\n",
        "# Forecasting and evaluation\n",
        "y_pred_lr = lr_model.predict(X_test)\n",
        "mae_lr = mean_absolute_error(y_test, y_pred_lr)\n",
        "print(f'Linear Regression MAE: {mae_lr}')\n"
      ],
      "metadata": {
        "colab": {
          "base_uri": "https://localhost:8080/"
        },
        "id": "Fh0-EoiHYG5x",
        "outputId": "4a3ea7ee-3cc7-484e-a3e7-bbf501eaf9a9"
      },
      "execution_count": 31,
      "outputs": [
        {
          "output_type": "stream",
          "name": "stdout",
          "text": [
            "Linear Regression MAE: 944509513.0099945\n"
          ]
        }
      ]
    },
    {
      "cell_type": "code",
      "source": [
        "# Random Forest\n",
        "from sklearn.ensemble import RandomForestRegressor\n",
        "\n",
        "# Random Forest\n",
        "rf_model = RandomForestRegressor(n_estimators=100, random_state=42)\n",
        "rf_model.fit(X_train, y_train)\n",
        "\n",
        "# Forecasting and evaluation\n",
        "y_pred_rf = rf_model.predict(X_test)\n",
        "mae_rf = mean_absolute_error(y_test, y_pred_rf)\n",
        "print(f'Random Forest MAE: {mae_rf}')\n"
      ],
      "metadata": {
        "colab": {
          "base_uri": "https://localhost:8080/"
        },
        "id": "Oa7Th9Z8Yfvt",
        "outputId": "bb335b74-277f-4f2c-b729-35a6d07b923d"
      },
      "execution_count": 32,
      "outputs": [
        {
          "output_type": "stream",
          "name": "stdout",
          "text": [
            "Random Forest MAE: 1062843588.125\n"
          ]
        }
      ]
    },
    {
      "cell_type": "code",
      "source": [
        "# XGBoost\n",
        "import xgboost as xgb\n",
        "\n",
        "# XGBoost\n",
        "xgb_model = xgb.XGBRegressor(n_estimators=100, learning_rate=0.1, random_state=42)\n",
        "xgb_model.fit(X_train, y_train)\n",
        "\n",
        "# Forecasting and evaluation\n",
        "y_pred_xgb = xgb_model.predict(X_test)\n",
        "mae_xgb = mean_absolute_error(y_test, y_pred_xgb)\n",
        "print(f'XGBoost MAE: {mae_xgb}')\n"
      ],
      "metadata": {
        "colab": {
          "base_uri": "https://localhost:8080/"
        },
        "id": "81WfVzQ-Yr1p",
        "outputId": "4b005f39-b3ab-4fd0-e24d-700737c575dd"
      },
      "execution_count": 33,
      "outputs": [
        {
          "output_type": "stream",
          "name": "stdout",
          "text": [
            "XGBoost MAE: 1082867556.75\n"
          ]
        }
      ]
    },
    {
      "cell_type": "code",
      "source": [
        "# Support Vector Regression\n",
        "from sklearn.svm import SVR\n",
        "\n",
        "# Support Vector Regression (SVR)\n",
        "svr_model = SVR(kernel='rbf')\n",
        "svr_model.fit(X_train, y_train)\n",
        "\n",
        "# Forecasting and evaluation\n",
        "y_pred_svr = svr_model.predict(X_test)\n",
        "mae_svr = mean_absolute_error(y_test, y_pred_svr)\n",
        "print(f'SVR MAE: {mae_svr}')\n"
      ],
      "metadata": {
        "colab": {
          "base_uri": "https://localhost:8080/"
        },
        "id": "vP7gZQCLY4Qg",
        "outputId": "252e4b6d-324e-463b-fd76-5b10d3ec6840"
      },
      "execution_count": 34,
      "outputs": [
        {
          "output_type": "stream",
          "name": "stdout",
          "text": [
            "SVR MAE: 2215249535.6819\n"
          ]
        }
      ]
    },
    {
      "cell_type": "code",
      "source": [
        "# K-Nearest Neighbor\n",
        "from sklearn.neighbors import KNeighborsRegressor\n",
        "\n",
        "# k-Nearest Neighbors (kNN)\n",
        "knn_model = KNeighborsRegressor(n_neighbors=5)\n",
        "knn_model.fit(X_train, y_train)\n",
        "\n",
        "# Forecasting and evaluation\n",
        "y_pred_knn = knn_model.predict(X_test)\n",
        "mae_knn = mean_absolute_error(y_test, y_pred_knn)\n",
        "print(f'kNN MAE: {mae_knn}')\n"
      ],
      "metadata": {
        "colab": {
          "base_uri": "https://localhost:8080/"
        },
        "id": "fckgA2X5ZCv7",
        "outputId": "48682b62-8938-45bd-adfd-745cb064a522"
      },
      "execution_count": 35,
      "outputs": [
        {
          "output_type": "stream",
          "name": "stdout",
          "text": [
            "kNN MAE: 881047646.9499998\n"
          ]
        }
      ]
    },
    {
      "cell_type": "code",
      "source": [
        "# Scale Dataset for SVR and kNN\n",
        "scaler = StandardScaler()\n",
        "X_train_scaled = scaler.fit_transform(X_train)\n",
        "X_test_scaled = scaler.transform(X_test)\n",
        "\n",
        "# Use X_train_scaled and X_test_scaled in SVR and kNN models\n",
        "# Replace X_train_scaled and X_test_scaled with your scaled data\n",
        "y_pred_svr = svr_model.predict(X_test_scaled)\n",
        "mae_svr = mean_absolute_error(y_test, y_pred_svr)\n",
        "print(f'SVR MAE: {mae_svr}')\n",
        "\n",
        "y_pred_knn = knn_model.predict(X_test_scaled)\n",
        "mae_knn = mean_absolute_error(y_test, y_pred_knn)\n",
        "print(f'kNN MAE: {mae_knn}')\n"
      ],
      "metadata": {
        "colab": {
          "base_uri": "https://localhost:8080/"
        },
        "id": "PAAjamWQZcGf",
        "outputId": "28a5878b-b487-4fd1-a36e-7bda3b815821"
      },
      "execution_count": 36,
      "outputs": [
        {
          "output_type": "stream",
          "name": "stdout",
          "text": [
            "SVR MAE: 2215249539.5190535\n",
            "kNN MAE: 3760801608.15\n"
          ]
        },
        {
          "output_type": "stream",
          "name": "stderr",
          "text": [
            "/usr/local/lib/python3.10/dist-packages/sklearn/base.py:493: UserWarning: X does not have valid feature names, but SVR was fitted with feature names\n",
            "  warnings.warn(\n",
            "/usr/local/lib/python3.10/dist-packages/sklearn/base.py:493: UserWarning: X does not have valid feature names, but KNeighborsRegressor was fitted with feature names\n",
            "  warnings.warn(\n"
          ]
        }
      ]
    },
    {
      "cell_type": "code",
      "source": [],
      "metadata": {
        "id": "5RoQ-KIFacxR"
      },
      "execution_count": null,
      "outputs": []
    },
    {
      "cell_type": "code",
      "source": [
        "print(f'Comparison of MAE values:')\n",
        "print(f'Linear Regression MAE: {mae_lr}')\n",
        "print(f'Random Forest MAE: {mae_rf}')\n",
        "print(f'XGBoost MAE: {mae_xgb}')\n",
        "print(f'SVR MAE: {mae_svr}')\n",
        "print(f'kNN MAE: {mae_knn}')"
      ],
      "metadata": {
        "colab": {
          "base_uri": "https://localhost:8080/"
        },
        "id": "rmst_4GQa8FI",
        "outputId": "a66c9799-0c9d-4f2f-a348-15b3d5365fc3"
      },
      "execution_count": 37,
      "outputs": [
        {
          "output_type": "stream",
          "name": "stdout",
          "text": [
            "Comparison of MAE values:\n",
            "Linear Regression MAE: 944509513.0099945\n",
            "Random Forest MAE: 1062843588.125\n",
            "XGBoost MAE: 1082867556.75\n",
            "SVR MAE: 2215249539.5190535\n",
            "kNN MAE: 3760801608.15\n"
          ]
        }
      ]
    },
    {
      "cell_type": "code",
      "source": [
        "# Reload data to model using statistical models\n",
        "# ARIMA and SARIMA\n",
        "import pandas as pd\n",
        "from sklearn.model_selection import train_test_split\n",
        "from sklearn.metrics import mean_absolute_error\n",
        "import numpy as np\n",
        "\n",
        "# Load your dataset\n",
        "file_path = '/content/sample_data/FDI_Remittance_5EnglishSpeaking_WAfricanCountries.csv'\n",
        "data = pd.read_csv(file_path)\n",
        "\n",
        "# Convert columns to numeric (remove commas)\n",
        "data_cleaned = data.replace(',', '', regex=True).astype(float)\n",
        "\n",
        "# Select the time series column to forecast (e.g., Rem_Ghana)\n",
        "time_series = data_cleaned['Rem_Ghana']\n",
        "\n",
        "# Split data into train and test sets\n",
        "train_size = int(len(time_series) * 0.8)\n",
        "train, test = time_series[:train_size], time_series[train_size:]\n"
      ],
      "metadata": {
        "id": "NLKpqTZCbEHy"
      },
      "execution_count": 38,
      "outputs": []
    },
    {
      "cell_type": "code",
      "source": [
        "import statsmodels.api as sm\n",
        "\n",
        "# ARIMA model\n",
        "arima_model = sm.tsa.ARIMA(train, order=(5, 1, 0))  # (p=5, d=1, q=0)\n",
        "arima_result = arima_model.fit()\n",
        "\n",
        "# Forecast\n",
        "arima_forecast = arima_result.forecast(steps=len(test))\n",
        "\n",
        "# Calculate MAE\n",
        "mae_arima = mean_absolute_error(test, arima_forecast)\n",
        "print(f'ARIMA MAE: {mae_arima}')\n"
      ],
      "metadata": {
        "colab": {
          "base_uri": "https://localhost:8080/"
        },
        "id": "f8yDAByUblMO",
        "outputId": "829534ca-a551-4267-ea47-1e99b09560a4"
      },
      "execution_count": 39,
      "outputs": [
        {
          "output_type": "stream",
          "name": "stdout",
          "text": [
            "ARIMA MAE: 732808277.1383209\n"
          ]
        },
        {
          "output_type": "stream",
          "name": "stderr",
          "text": [
            "/usr/local/lib/python3.10/dist-packages/statsmodels/tsa/statespace/sarimax.py:966: UserWarning: Non-stationary starting autoregressive parameters found. Using zeros as starting parameters.\n",
            "  warn('Non-stationary starting autoregressive parameters'\n"
          ]
        }
      ]
    },
    {
      "cell_type": "code",
      "source": [
        "# SARIMA model\n",
        "sarima_model = sm.tsa.SARIMAX(train, order=(1, 1, 1), seasonal_order=(1, 1, 1, 12))  # Adjust order and seasonal order\n",
        "sarima_result = sarima_model.fit()\n",
        "\n",
        "# Forecast\n",
        "sarima_forecast = sarima_result.forecast(steps=len(test))\n",
        "\n",
        "# Calculate MAE\n",
        "mae_sarima = mean_absolute_error(test, sarima_forecast)\n",
        "print(f'SARIMA MAE: {mae_sarima}')\n"
      ],
      "metadata": {
        "colab": {
          "base_uri": "https://localhost:8080/"
        },
        "id": "3oSBhXbab_kR",
        "outputId": "6c80b914-f29a-4997-a2fe-910f10eacb19"
      },
      "execution_count": 40,
      "outputs": [
        {
          "output_type": "stream",
          "name": "stderr",
          "text": [
            "/usr/local/lib/python3.10/dist-packages/statsmodels/tsa/statespace/sarimax.py:866: UserWarning: Too few observations to estimate starting parameters for ARMA and trend. All parameters except for variances will be set to zeros.\n",
            "  warn('Too few observations to estimate starting parameters%s.'\n",
            "/usr/local/lib/python3.10/dist-packages/statsmodels/tsa/statespace/sarimax.py:866: UserWarning: Too few observations to estimate starting parameters for seasonal ARMA. All parameters except for variances will be set to zeros.\n",
            "  warn('Too few observations to estimate starting parameters%s.'\n"
          ]
        },
        {
          "output_type": "stream",
          "name": "stdout",
          "text": [
            "SARIMA MAE: 730253912.3523346\n"
          ]
        },
        {
          "output_type": "stream",
          "name": "stderr",
          "text": [
            "/usr/local/lib/python3.10/dist-packages/statsmodels/base/model.py:607: ConvergenceWarning: Maximum Likelihood optimization failed to converge. Check mle_retvals\n",
            "  warnings.warn(\"Maximum Likelihood optimization failed to \"\n"
          ]
        }
      ]
    },
    {
      "cell_type": "code",
      "source": [
        "print(f'Comparison of MAE values:')\n",
        "print(f'Linear Regression MAE: {mae_lr}')\n",
        "print(f'Random Forest MAE: {mae_rf}')\n",
        "print(f'XGBoost MAE: {mae_xgb}')\n",
        "print(f'SVR MAE: {mae_svr}')\n",
        "print(f'kNN MAE: {mae_knn}')\n",
        "print(f'ARIMA MAE: {mae_arima}')\n",
        "print(f'SARIMA MAE: {mae_sarima}')"
      ],
      "metadata": {
        "colab": {
          "base_uri": "https://localhost:8080/"
        },
        "id": "Y106S4xrcHXG",
        "outputId": "3074a1f4-12b9-48c5-8f6e-8f4e0ebcc523"
      },
      "execution_count": 41,
      "outputs": [
        {
          "output_type": "stream",
          "name": "stdout",
          "text": [
            "Comparison of MAE values:\n",
            "Linear Regression MAE: 944509513.0099945\n",
            "Random Forest MAE: 1062843588.125\n",
            "XGBoost MAE: 1082867556.75\n",
            "SVR MAE: 2215249539.5190535\n",
            "kNN MAE: 3760801608.15\n",
            "ARIMA MAE: 732808277.1383209\n",
            "SARIMA MAE: 730253912.3523346\n"
          ]
        }
      ]
    },
    {
      "cell_type": "code",
      "source": [
        "mae_df = pd.DataFrame(mae_results, columns=['Model', 'MAE'])\n",
        "print(mae_df)"
      ],
      "metadata": {
        "colab": {
          "base_uri": "https://localhost:8080/"
        },
        "id": "uCA2misLf0nD",
        "outputId": "4c878074-9773-4dcc-8959-9b477f43b0c5"
      },
      "execution_count": 42,
      "outputs": [
        {
          "output_type": "stream",
          "name": "stdout",
          "text": [
            "               Model           MAE\n",
            "0              ARIMA  7.328083e+08\n",
            "1             SARIMA  7.302539e+08\n",
            "2  Linear Regression  9.445095e+08\n",
            "3      Random Forest  1.062844e+09\n",
            "4            XGBoost  1.099773e+09\n",
            "5                SVR  2.215250e+09\n",
            "6                kNN  8.810476e+08\n"
          ]
        }
      ]
    },
    {
      "cell_type": "code",
      "source": [
        "!pip install ace_tools\n",
        "import pandas as pd\n",
        "from sklearn.model_selection import train_test_split\n",
        "from sklearn.metrics import mean_absolute_error\n",
        "from sklearn.linear_model import LinearRegression\n",
        "from sklearn.ensemble import RandomForestRegressor\n",
        "from sklearn.svm import SVR\n",
        "from sklearn.neighbors import KNeighborsRegressor\n",
        "import xgboost as xgb\n",
        "import statsmodels.api as sm\n",
        "from sklearn.preprocessing import StandardScaler\n",
        "\n",
        "# Load the dataset\n",
        "file_path = '/content/sample_data/FDI_Remittance_5EnglishSpeaking_WAfricanCountries.csv'\n",
        "data = pd.read_csv(file_path)\n",
        "\n",
        "# Convert columns to numeric (remove commas)\n",
        "data_cleaned = data.replace(',', '', regex=True).astype(float)\n",
        "\n",
        "# List of countries and columns for forecasting\n",
        "countries = ['Ghana', 'Gambia', 'Liberia', 'Nigeria', 'SL']\n",
        "results = []\n",
        "\n",
        "# Function to prepare lagged features\n",
        "def create_lagged_features(df, column, lags):\n",
        "    for lag in range(1, lags + 1):\n",
        "        df[f'{column}_lag_{lag}'] = df[column].shift(lag)\n",
        "    return df\n",
        "\n",
        "# Function to calculate MAE for a given country\n",
        "def calculate_mae(country):\n",
        "    fdi_col = f'FDI_{country}'\n",
        "    rem_col = f'Rem_{country}'\n",
        "\n",
        "    # Create lagged features\n",
        "    data_lagged = create_lagged_features(data_cleaned, fdi_col, 3)\n",
        "    data_lagged = create_lagged_features(data_lagged, rem_col, 3)\n",
        "\n",
        "    # Drop rows with missing values\n",
        "    data_lagged.dropna(inplace=True)\n",
        "\n",
        "    # Features (X) and Target (y)\n",
        "    X = data_lagged[[f'{fdi_col}_lag_{i}' for i in range(1, 4)] + [f'{rem_col}_lag_{i}' for i in range(1, 4)]]\n",
        "    y = data_lagged[rem_col]\n",
        "\n",
        "    # Split data into training and test sets\n",
        "    X_train, X_test, y_train, y_test = train_test_split(X, y, test_size=0.2, shuffle=False)\n",
        "\n",
        "    # Initialize dictionary to store MAEs\n",
        "    mae_results = {'Country': country}\n",
        "\n",
        "    # ARIMA\n",
        "    arima_model = sm.tsa.ARIMA(y_train, order=(5, 1, 0))\n",
        "    arima_result = arima_model.fit()\n",
        "    arima_forecast = arima_result.forecast(steps=len(y_test))\n",
        "    mae_results['ARIMA'] = mean_absolute_error(y_test, arima_forecast)\n",
        "\n",
        "    # SARIMA\n",
        "    sarima_model = sm.tsa.SARIMAX(y_train, order=(1, 1, 1), seasonal_order=(1, 1, 1, 12))\n",
        "    sarima_result = sarima_model.fit()\n",
        "    sarima_forecast = sarima_result.forecast(steps=len(y_test))\n",
        "    mae_results['SARIMA'] = mean_absolute_error(y_test, sarima_forecast)\n",
        "\n",
        "    # Linear Regression\n",
        "    lr_model = LinearRegression()\n",
        "    lr_model.fit(X_train, y_train)\n",
        "    y_pred_lr = lr_model.predict(X_test)\n",
        "    mae_results['Linear Regression'] = mean_absolute_error(y_test, y_pred_lr)\n",
        "\n",
        "    # Random Forest\n",
        "    rf_model = RandomForestRegressor(n_estimators=100, random_state=42)\n",
        "    rf_model.fit(X_train, y_train)\n",
        "    y_pred_rf = rf_model.predict(X_test)\n",
        "    mae_results['Random Forest'] = mean_absolute_error(y_test, y_pred_rf)\n",
        "\n",
        "    # XGBoost\n",
        "    xgb_model = xgb.XGBRegressor(n_estimators=50, learning_rate=0.1, random_state=42)\n",
        "    xgb_model.fit(X_train, y_train)\n",
        "    y_pred_xgb = xgb_model.predict(X_test)\n",
        "    mae_results['XGBoost'] = mean_absolute_error(y_test, y_pred_xgb)\n",
        "\n",
        "    # SVR\n",
        "    svr_model = SVR(kernel='rbf')\n",
        "    svr_model.fit(X_train, y_train)\n",
        "    y_pred_svr = svr_model.predict(X_test)\n",
        "    mae_results['SVR'] = mean_absolute_error(y_test, y_pred_svr)\n",
        "\n",
        "    # k-Nearest Neighbors (kNN)\n",
        "    knn_model = KNeighborsRegressor(n_neighbors=3)\n",
        "    knn_model.fit(X_train, y_train)\n",
        "    y_pred_knn = knn_model.predict(X_test)\n",
        "    mae_results['kNN'] = mean_absolute_error(y_test, y_pred_knn)\n",
        "\n",
        "    return mae_results\n",
        "\n",
        "# Loop through each country and calculate the MAEs\n",
        "for country in countries:\n",
        "    results.append(calculate_mae(country))\n",
        "\n",
        "# Convert the results into a DataFrame and display\n",
        "mae_df = pd.DataFrame(results)\n",
        "\n",
        "# Display the MAE comparison table\n",
        "print(mae_df)\n",
        "\n"
      ],
      "metadata": {
        "colab": {
          "base_uri": "https://localhost:8080/"
        },
        "id": "HV5fTgAejTQB",
        "outputId": "290d45f4-50df-4023-c62c-17764ada1c35"
      },
      "execution_count": 27,
      "outputs": [
        {
          "output_type": "stream",
          "name": "stdout",
          "text": [
            "Requirement already satisfied: ace_tools in /usr/local/lib/python3.10/dist-packages (0.0)\n"
          ]
        },
        {
          "output_type": "stream",
          "name": "stderr",
          "text": [
            "/usr/local/lib/python3.10/dist-packages/statsmodels/tsa/base/tsa_model.py:473: ValueWarning: An unsupported index was provided. As a result, forecasts cannot be generated. To use the model for forecasting, use one of the supported classes of index.\n",
            "  self._init_dates(dates, freq)\n",
            "/usr/local/lib/python3.10/dist-packages/statsmodels/tsa/base/tsa_model.py:473: ValueWarning: An unsupported index was provided. As a result, forecasts cannot be generated. To use the model for forecasting, use one of the supported classes of index.\n",
            "  self._init_dates(dates, freq)\n",
            "/usr/local/lib/python3.10/dist-packages/statsmodels/tsa/base/tsa_model.py:473: ValueWarning: An unsupported index was provided. As a result, forecasts cannot be generated. To use the model for forecasting, use one of the supported classes of index.\n",
            "  self._init_dates(dates, freq)\n",
            "/usr/local/lib/python3.10/dist-packages/statsmodels/tsa/statespace/sarimax.py:966: UserWarning: Non-stationary starting autoregressive parameters found. Using zeros as starting parameters.\n",
            "  warn('Non-stationary starting autoregressive parameters'\n",
            "/usr/local/lib/python3.10/dist-packages/statsmodels/base/model.py:607: ConvergenceWarning: Maximum Likelihood optimization failed to converge. Check mle_retvals\n",
            "  warnings.warn(\"Maximum Likelihood optimization failed to \"\n",
            "/usr/local/lib/python3.10/dist-packages/statsmodels/tsa/base/tsa_model.py:837: ValueWarning: No supported index is available. Prediction results will be given with an integer index beginning at `start`.\n",
            "  return get_prediction_index(\n",
            "/usr/local/lib/python3.10/dist-packages/statsmodels/tsa/base/tsa_model.py:837: FutureWarning: No supported index is available. In the next version, calling this method in a model without a supported index will result in an exception.\n",
            "  return get_prediction_index(\n",
            "/usr/local/lib/python3.10/dist-packages/statsmodels/tsa/base/tsa_model.py:473: ValueWarning: An unsupported index was provided. As a result, forecasts cannot be generated. To use the model for forecasting, use one of the supported classes of index.\n",
            "  self._init_dates(dates, freq)\n",
            "/usr/local/lib/python3.10/dist-packages/statsmodels/tsa/base/tsa_model.py:473: ValueWarning: An unsupported index was provided. As a result, forecasts cannot be generated. To use the model for forecasting, use one of the supported classes of index.\n",
            "  self._init_dates(dates, freq)\n",
            "/usr/local/lib/python3.10/dist-packages/statsmodels/tsa/statespace/sarimax.py:866: UserWarning: Too few observations to estimate starting parameters for ARMA and trend. All parameters except for variances will be set to zeros.\n",
            "  warn('Too few observations to estimate starting parameters%s.'\n",
            "/usr/local/lib/python3.10/dist-packages/statsmodels/tsa/statespace/sarimax.py:866: UserWarning: Too few observations to estimate starting parameters for seasonal ARMA. All parameters except for variances will be set to zeros.\n",
            "  warn('Too few observations to estimate starting parameters%s.'\n",
            "/usr/local/lib/python3.10/dist-packages/statsmodels/tsa/base/tsa_model.py:837: ValueWarning: No supported index is available. Prediction results will be given with an integer index beginning at `start`.\n",
            "  return get_prediction_index(\n",
            "/usr/local/lib/python3.10/dist-packages/statsmodels/tsa/base/tsa_model.py:837: FutureWarning: No supported index is available. In the next version, calling this method in a model without a supported index will result in an exception.\n",
            "  return get_prediction_index(\n",
            "/usr/local/lib/python3.10/dist-packages/statsmodels/tsa/base/tsa_model.py:473: ValueWarning: An unsupported index was provided. As a result, forecasts cannot be generated. To use the model for forecasting, use one of the supported classes of index.\n",
            "  self._init_dates(dates, freq)\n",
            "/usr/local/lib/python3.10/dist-packages/statsmodels/tsa/base/tsa_model.py:473: ValueWarning: An unsupported index was provided. As a result, forecasts cannot be generated. To use the model for forecasting, use one of the supported classes of index.\n",
            "  self._init_dates(dates, freq)\n",
            "/usr/local/lib/python3.10/dist-packages/statsmodels/tsa/base/tsa_model.py:473: ValueWarning: An unsupported index was provided. As a result, forecasts cannot be generated. To use the model for forecasting, use one of the supported classes of index.\n",
            "  self._init_dates(dates, freq)\n",
            "/usr/local/lib/python3.10/dist-packages/statsmodels/tsa/statespace/sarimax.py:966: UserWarning: Non-stationary starting autoregressive parameters found. Using zeros as starting parameters.\n",
            "  warn('Non-stationary starting autoregressive parameters'\n",
            "/usr/local/lib/python3.10/dist-packages/statsmodels/base/model.py:607: ConvergenceWarning: Maximum Likelihood optimization failed to converge. Check mle_retvals\n",
            "  warnings.warn(\"Maximum Likelihood optimization failed to \"\n",
            "/usr/local/lib/python3.10/dist-packages/statsmodels/tsa/base/tsa_model.py:837: ValueWarning: No supported index is available. Prediction results will be given with an integer index beginning at `start`.\n",
            "  return get_prediction_index(\n",
            "/usr/local/lib/python3.10/dist-packages/statsmodels/tsa/base/tsa_model.py:837: FutureWarning: No supported index is available. In the next version, calling this method in a model without a supported index will result in an exception.\n",
            "  return get_prediction_index(\n",
            "/usr/local/lib/python3.10/dist-packages/statsmodels/tsa/base/tsa_model.py:473: ValueWarning: An unsupported index was provided. As a result, forecasts cannot be generated. To use the model for forecasting, use one of the supported classes of index.\n",
            "  self._init_dates(dates, freq)\n",
            "/usr/local/lib/python3.10/dist-packages/statsmodels/tsa/base/tsa_model.py:473: ValueWarning: An unsupported index was provided. As a result, forecasts cannot be generated. To use the model for forecasting, use one of the supported classes of index.\n",
            "  self._init_dates(dates, freq)\n",
            "/usr/local/lib/python3.10/dist-packages/statsmodels/tsa/statespace/sarimax.py:866: UserWarning: Too few observations to estimate starting parameters for ARMA and trend. All parameters except for variances will be set to zeros.\n",
            "  warn('Too few observations to estimate starting parameters%s.'\n",
            "/usr/local/lib/python3.10/dist-packages/statsmodels/tsa/statespace/sarimax.py:866: UserWarning: Too few observations to estimate starting parameters for seasonal ARMA. All parameters except for variances will be set to zeros.\n",
            "  warn('Too few observations to estimate starting parameters%s.'\n",
            "/usr/local/lib/python3.10/dist-packages/statsmodels/tsa/base/tsa_model.py:837: ValueWarning: No supported index is available. Prediction results will be given with an integer index beginning at `start`.\n",
            "  return get_prediction_index(\n",
            "/usr/local/lib/python3.10/dist-packages/statsmodels/tsa/base/tsa_model.py:837: FutureWarning: No supported index is available. In the next version, calling this method in a model without a supported index will result in an exception.\n",
            "  return get_prediction_index(\n",
            "/usr/local/lib/python3.10/dist-packages/statsmodels/tsa/base/tsa_model.py:473: ValueWarning: An unsupported index was provided. As a result, forecasts cannot be generated. To use the model for forecasting, use one of the supported classes of index.\n",
            "  self._init_dates(dates, freq)\n",
            "/usr/local/lib/python3.10/dist-packages/statsmodels/tsa/base/tsa_model.py:473: ValueWarning: An unsupported index was provided. As a result, forecasts cannot be generated. To use the model for forecasting, use one of the supported classes of index.\n",
            "  self._init_dates(dates, freq)\n",
            "/usr/local/lib/python3.10/dist-packages/statsmodels/tsa/base/tsa_model.py:473: ValueWarning: An unsupported index was provided. As a result, forecasts cannot be generated. To use the model for forecasting, use one of the supported classes of index.\n",
            "  self._init_dates(dates, freq)\n",
            "/usr/local/lib/python3.10/dist-packages/statsmodels/base/model.py:607: ConvergenceWarning: Maximum Likelihood optimization failed to converge. Check mle_retvals\n",
            "  warnings.warn(\"Maximum Likelihood optimization failed to \"\n",
            "/usr/local/lib/python3.10/dist-packages/statsmodels/tsa/base/tsa_model.py:837: ValueWarning: No supported index is available. Prediction results will be given with an integer index beginning at `start`.\n",
            "  return get_prediction_index(\n",
            "/usr/local/lib/python3.10/dist-packages/statsmodels/tsa/base/tsa_model.py:837: FutureWarning: No supported index is available. In the next version, calling this method in a model without a supported index will result in an exception.\n",
            "  return get_prediction_index(\n",
            "/usr/local/lib/python3.10/dist-packages/statsmodels/tsa/base/tsa_model.py:473: ValueWarning: An unsupported index was provided. As a result, forecasts cannot be generated. To use the model for forecasting, use one of the supported classes of index.\n",
            "  self._init_dates(dates, freq)\n",
            "/usr/local/lib/python3.10/dist-packages/statsmodels/tsa/base/tsa_model.py:473: ValueWarning: An unsupported index was provided. As a result, forecasts cannot be generated. To use the model for forecasting, use one of the supported classes of index.\n",
            "  self._init_dates(dates, freq)\n",
            "/usr/local/lib/python3.10/dist-packages/statsmodels/tsa/statespace/sarimax.py:866: UserWarning: Too few observations to estimate starting parameters for ARMA and trend. All parameters except for variances will be set to zeros.\n",
            "  warn('Too few observations to estimate starting parameters%s.'\n",
            "/usr/local/lib/python3.10/dist-packages/statsmodels/tsa/statespace/sarimax.py:866: UserWarning: Too few observations to estimate starting parameters for seasonal ARMA. All parameters except for variances will be set to zeros.\n",
            "  warn('Too few observations to estimate starting parameters%s.'\n",
            "/usr/local/lib/python3.10/dist-packages/statsmodels/tsa/base/tsa_model.py:837: ValueWarning: No supported index is available. Prediction results will be given with an integer index beginning at `start`.\n",
            "  return get_prediction_index(\n",
            "/usr/local/lib/python3.10/dist-packages/statsmodels/tsa/base/tsa_model.py:837: FutureWarning: No supported index is available. In the next version, calling this method in a model without a supported index will result in an exception.\n",
            "  return get_prediction_index(\n",
            "/usr/local/lib/python3.10/dist-packages/statsmodels/tsa/base/tsa_model.py:473: ValueWarning: An unsupported index was provided. As a result, forecasts cannot be generated. To use the model for forecasting, use one of the supported classes of index.\n",
            "  self._init_dates(dates, freq)\n",
            "/usr/local/lib/python3.10/dist-packages/statsmodels/tsa/base/tsa_model.py:473: ValueWarning: An unsupported index was provided. As a result, forecasts cannot be generated. To use the model for forecasting, use one of the supported classes of index.\n",
            "  self._init_dates(dates, freq)\n",
            "/usr/local/lib/python3.10/dist-packages/statsmodels/tsa/base/tsa_model.py:473: ValueWarning: An unsupported index was provided. As a result, forecasts cannot be generated. To use the model for forecasting, use one of the supported classes of index.\n",
            "  self._init_dates(dates, freq)\n",
            "/usr/local/lib/python3.10/dist-packages/statsmodels/tsa/statespace/sarimax.py:866: UserWarning: Too few observations to estimate starting parameters for ARMA and trend. All parameters except for variances will be set to zeros.\n",
            "  warn('Too few observations to estimate starting parameters%s.'\n",
            "/usr/local/lib/python3.10/dist-packages/statsmodels/tsa/base/tsa_model.py:837: ValueWarning: No supported index is available. Prediction results will be given with an integer index beginning at `start`.\n",
            "  return get_prediction_index(\n",
            "/usr/local/lib/python3.10/dist-packages/statsmodels/tsa/base/tsa_model.py:837: FutureWarning: No supported index is available. In the next version, calling this method in a model without a supported index will result in an exception.\n",
            "  return get_prediction_index(\n",
            "/usr/local/lib/python3.10/dist-packages/statsmodels/tsa/base/tsa_model.py:473: ValueWarning: An unsupported index was provided. As a result, forecasts cannot be generated. To use the model for forecasting, use one of the supported classes of index.\n",
            "  self._init_dates(dates, freq)\n",
            "/usr/local/lib/python3.10/dist-packages/statsmodels/tsa/base/tsa_model.py:473: ValueWarning: An unsupported index was provided. As a result, forecasts cannot be generated. To use the model for forecasting, use one of the supported classes of index.\n",
            "  self._init_dates(dates, freq)\n",
            "/usr/local/lib/python3.10/dist-packages/statsmodels/tsa/statespace/sarimax.py:866: UserWarning: Too few observations to estimate starting parameters for ARMA and trend. All parameters except for variances will be set to zeros.\n",
            "  warn('Too few observations to estimate starting parameters%s.'\n",
            "/usr/local/lib/python3.10/dist-packages/statsmodels/tsa/statespace/sarimax.py:866: UserWarning: Too few observations to estimate starting parameters for seasonal ARMA. All parameters except for variances will be set to zeros.\n",
            "  warn('Too few observations to estimate starting parameters%s.'\n",
            "/usr/local/lib/python3.10/dist-packages/statsmodels/tsa/base/tsa_model.py:837: ValueWarning: No supported index is available. Prediction results will be given with an integer index beginning at `start`.\n",
            "  return get_prediction_index(\n",
            "/usr/local/lib/python3.10/dist-packages/statsmodels/tsa/base/tsa_model.py:837: FutureWarning: No supported index is available. In the next version, calling this method in a model without a supported index will result in an exception.\n",
            "  return get_prediction_index(\n",
            "/usr/local/lib/python3.10/dist-packages/statsmodels/tsa/base/tsa_model.py:473: ValueWarning: An unsupported index was provided. As a result, forecasts cannot be generated. To use the model for forecasting, use one of the supported classes of index.\n",
            "  self._init_dates(dates, freq)\n",
            "/usr/local/lib/python3.10/dist-packages/statsmodels/tsa/base/tsa_model.py:473: ValueWarning: An unsupported index was provided. As a result, forecasts cannot be generated. To use the model for forecasting, use one of the supported classes of index.\n",
            "  self._init_dates(dates, freq)\n",
            "/usr/local/lib/python3.10/dist-packages/statsmodels/tsa/base/tsa_model.py:473: ValueWarning: An unsupported index was provided. As a result, forecasts cannot be generated. To use the model for forecasting, use one of the supported classes of index.\n",
            "  self._init_dates(dates, freq)\n",
            "/usr/local/lib/python3.10/dist-packages/statsmodels/tsa/statespace/sarimax.py:866: UserWarning: Too few observations to estimate starting parameters for ARMA and trend. All parameters except for variances will be set to zeros.\n",
            "  warn('Too few observations to estimate starting parameters%s.'\n",
            "/usr/local/lib/python3.10/dist-packages/statsmodels/tsa/base/tsa_model.py:837: ValueWarning: No supported index is available. Prediction results will be given with an integer index beginning at `start`.\n",
            "  return get_prediction_index(\n",
            "/usr/local/lib/python3.10/dist-packages/statsmodels/tsa/base/tsa_model.py:837: FutureWarning: No supported index is available. In the next version, calling this method in a model without a supported index will result in an exception.\n",
            "  return get_prediction_index(\n",
            "/usr/local/lib/python3.10/dist-packages/statsmodels/tsa/base/tsa_model.py:473: ValueWarning: An unsupported index was provided. As a result, forecasts cannot be generated. To use the model for forecasting, use one of the supported classes of index.\n",
            "  self._init_dates(dates, freq)\n",
            "/usr/local/lib/python3.10/dist-packages/statsmodels/tsa/base/tsa_model.py:473: ValueWarning: An unsupported index was provided. As a result, forecasts cannot be generated. To use the model for forecasting, use one of the supported classes of index.\n",
            "  self._init_dates(dates, freq)\n",
            "/usr/local/lib/python3.10/dist-packages/statsmodels/tsa/statespace/sarimax.py:866: UserWarning: Too few observations to estimate starting parameters for ARMA and trend. All parameters except for variances will be set to zeros.\n",
            "  warn('Too few observations to estimate starting parameters%s.'\n",
            "/usr/local/lib/python3.10/dist-packages/statsmodels/tsa/statespace/sarimax.py:866: UserWarning: Too few observations to estimate starting parameters for seasonal ARMA. All parameters except for variances will be set to zeros.\n",
            "  warn('Too few observations to estimate starting parameters%s.'\n",
            "/usr/local/lib/python3.10/dist-packages/statsmodels/tsa/base/tsa_model.py:837: ValueWarning: No supported index is available. Prediction results will be given with an integer index beginning at `start`.\n",
            "  return get_prediction_index(\n",
            "/usr/local/lib/python3.10/dist-packages/statsmodels/tsa/base/tsa_model.py:837: FutureWarning: No supported index is available. In the next version, calling this method in a model without a supported index will result in an exception.\n",
            "  return get_prediction_index(\n"
          ]
        },
        {
          "output_type": "stream",
          "name": "stdout",
          "text": [
            "   Country         ARIMA        SARIMA  Linear Regression  Random Forest  \\\n",
            "0    Ghana  2.710306e+09  7.011557e+08       9.445095e+08   1.062844e+09   \n",
            "1   Gambia  2.025717e+08  1.933299e+08       1.318399e+08   2.607201e+08   \n",
            "2  Liberia  4.061435e+07  2.746446e+08       4.038323e+08   1.754494e+08   \n",
            "3  Nigeria  4.908083e+09  2.597961e+09       1.113186e+10   7.384942e+08   \n",
            "4       SL  8.949471e+07  8.925458e+07       8.550525e+07   1.196104e+08   \n",
            "\n",
            "        XGBoost           SVR           kNN  \n",
            "0  1.099773e+09  2.215250e+09  1.021856e+09  \n",
            "1  2.225270e+08  3.467132e+08  2.724292e+08  \n",
            "2  1.356000e+08  1.738875e+08  2.183250e+08  \n",
            "3  2.034711e+09  2.231509e+09  1.794753e+09  \n",
            "4  9.208040e+07  1.441115e+08  1.259796e+08  \n"
          ]
        }
      ]
    }
  ]
}